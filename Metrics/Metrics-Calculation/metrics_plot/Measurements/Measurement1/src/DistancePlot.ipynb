{
 "cells": [
  {
   "cell_type": "code",
   "execution_count": 2,
   "metadata": {},
   "outputs": [],
   "source": [
    "import os, sys\n",
    "lib_path = os.path.abspath(os.path.join('..','..', '..', 'utils'))\n",
    "sys.path.append(lib_path)\n",
    "import glob\n",
    "import matplotlib.pyplot as plt\n",
    "from GraphType import GraphCollection\n",
    "import DistributionMetrics as metrics\n",
    "from GraphType import GraphCollection\n",
    "from GraphType import GraphStat\n",
    "import readCSV as reader\n"
   ]
  },
  {
   "cell_type": "code",
   "execution_count": 7,
   "metadata": {},
   "outputs": [],
   "source": [
    "def getModels(folderName, numberOfModels):\n",
    "    filenames = reader.readmultiplefiles(folderName, numberOfModels, False)\n",
    "    graphStats = [GraphStat(filename) for filename in filenames]\n",
    "    return graphStats"
   ]
  },
  {
   "cell_type": "code",
   "execution_count": 6,
   "metadata": {},
   "outputs": [
    {
     "name": "stdout",
     "output_type": "stream",
     "text": [
      "0\n",
      "198\n",
      "0\n",
      "0\n",
      "0\n"
     ]
    }
   ],
   "source": [
    "# read models\n",
    "domain = 'ecore'\n",
    "rep = getModels('../input/{}/MPC_REP/'.format(domain), 1)[0]\n",
    "na_rep = getModels('../input/{}/NA_REP/'.format(domain), 1)[0]\n",
    "od_rep = getModels('../input/{}/OUT_DEGREE_REP/'.format(domain), 1)[0]\n",
    "rep.na = na_rep.na\n",
    "rep.out_d = od_rep.out_d\n",
    "\n",
    "human_models = getModels('../input/{}/Human/'.format(domain), 304)\n",
    "folder = '../output/distances/{}/'.format(domain)\n",
    "mkdir(folder)"
   ]
  },
  {
   "cell_type": "code",
   "execution_count": 111,
   "metadata": {},
   "outputs": [],
   "source": [
    "if domain == 'yakindumm':\n",
    "    rep.nodeTypeStat = {'Entry': 0.04257802080554814, 'Choice': 0.1267671379034409, 'State': 0.1596092291277674, 'Transition': 0.6138636969858629, 'Statechart': 0.010136036276340358, 'Region': 0.04467858095492131, 'Exit': 0.0018338223526273673, 'FinalState': 0.0005334755934915977}\n",
    "elif domain == 'ecpre':\n",
    "    rep.nodeTypeStat = {'EAttribute': 0.23539778449144008, 'EClass': 0.30996978851963747, 'EReference': 0.33081570996978854, 'EPackage': 0.012789526686807653, 'EAnnotation': 0.002517623363544813, 'EEnumLiteral': 0.07275931520644502, 'EEnum': 0.013645518630412891, 'EDataType': 0.004028197381671702, 'EParameter': 0.005941591137965764, 'EGenericType': 0.002014098690835851, 'EOperation': 0.009415911379657605, 'ETypeParameter': 0.0007049345417925478}\n",
    "node_types = sorted(rep.nodeTypeStat.keys())"
   ]
  },
  {
   "cell_type": "code",
   "execution_count": 112,
   "metadata": {},
   "outputs": [],
   "source": [
    "def plot_diagram(name, models, rep, metric, distance_metric):\n",
    "    model_metrics = list(map(metric, models))\n",
    "    rep = metric(rep)\n",
    "    distances= list(map(lambda m: distance_metric(m,rep), model_metrics))\n",
    "    plt.figure()\n",
    "    plt.title('{} for {}'.format(name, domain))\n",
    "    plt.hist(distances)\n",
    "    plt.savefig('{}/{}.png'.format(folder, name), dpi = 500)"
   ]
  },
  {
   "cell_type": "code",
   "execution_count": 113,
   "metadata": {},
   "outputs": [],
   "source": [
    "def mpc(model):\n",
    "    return model.mpc\n",
    "def na(model):\n",
    "    return model.na\n",
    "def od(model):\n",
    "    return model.out_d\n",
    "\n",
    "def nt(model):\n",
    "    nd_dict = model.nodeTypeStat\n",
    "    dist = []\n",
    "    for key in node_types:\n",
    "        dist.append(nd_dict.get(key, 0))\n",
    "    return dist\n",
    "\n",
    "def mkdir(path):\n",
    "    if not os.path.exists(path):\n",
    "        os.makedirs(path)\n",
    "\n",
    "def ks_distance(s1, s2):\n",
    "    value, p = metrics.ks_distance(s1, s2)\n",
    "    return value"
   ]
  },
  {
   "cell_type": "code",
   "execution_count": 114,
   "metadata": {},
   "outputs": [
    {
     "data": {
      "image/png": "[encoded data removed]",
      "text/plain": [
       "<Figure size 432x288 with 1 Axes>"
      ]
     },
     "metadata": {
      "needs_background": "light"
     },
     "output_type": "display_data"
    },
    {
     "data": {
      "image/png": "[encoded data removed]",
      "text/plain": [
       "<Figure size 432x288 with 1 Axes>"
      ]
     },
     "metadata": {
      "needs_background": "light"
     },
     "output_type": "display_data"
    },
    {
     "data": {
      "image/png": "[encoded data removed]",
      "text/plain": [
       "<Figure size 432x288 with 1 Axes>"
      ]
     },
     "metadata": {
      "needs_background": "light"
     },
     "output_type": "display_data"
    },
    {
     "data": {
      "image/png": "[encoded data removed]",
      "text/plain": [
       "<Figure size 432x288 with 1 Axes>"
      ]
     },
     "metadata": {
      "needs_background": "light"
     },
     "output_type": "display_data"
    }
   ],
   "source": [
    "plot_diagram('MPC', human_models, rep, mpc, ks_distance)\n",
    "plot_diagram('Node_Activity', human_models, rep, na, ks_distance)\n",
    "plot_diagram('Out_Degree', human_models, rep, od, ks_distance)\n",
    "plot_diagram('Node_Type', human_models, rep, nt, metrics.manual_ks)\n"
   ]
  },
  {
   "cell_type": "code",
   "execution_count": null,
   "metadata": {},
   "outputs": [],
   "source": []
  }
 ],
 "metadata": {
  "kernelspec": {
   "display_name": "Python 3",
   "language": "python",
   "name": "python3"
  },
  "language_info": {
   "codemirror_mode": {
    "name": "ipython",
    "version": 3
   },
   "file_extension": ".py",
   "mimetype": "text/x-python",
   "name": "python",
   "nbconvert_exporter": "python",
   "pygments_lexer": "ipython3",
   "version": "3.7.3"
  }
 },
 "nbformat": 4,
 "nbformat_minor": 2
}
