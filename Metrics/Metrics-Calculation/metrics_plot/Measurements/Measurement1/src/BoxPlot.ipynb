{
 "cells": [
  {
   "cell_type": "code",
   "execution_count": 70,
   "metadata": {},
   "outputs": [],
   "source": [
    "import matplotlib.pyplot as plt\n",
    "import statistics\n",
    "import os\n",
    "import sys\n",
    "lib_path = os.path.abspath(os.path.join('..','..', '..', 'utils'))\n",
    "sys.path.append(lib_path)\n",
    "from GraphType import GraphStat\n",
    "import readCSV as reader\n",
    "import constants\n",
    "import DistributionMetrics as metrics"
   ]
  },
  {
   "cell_type": "code",
   "execution_count": 71,
   "metadata": {},
   "outputs": [],
   "source": [
    "def getModels(folderName, numberOfModels):\n",
    "    filenames = reader.readmultiplefiles(folderName, numberOfModels, False)\n",
    "    graphStats = [GraphStat(filename) for filename in filenames]\n",
    "    return graphStats"
   ]
  },
  {
   "cell_type": "markdown",
   "metadata": {},
   "source": [
    "## Import"
   ]
  },
  {
   "cell_type": "code",
   "execution_count": 150,
   "metadata": {},
   "outputs": [],
   "source": [
    "domain = 'yakindu'\n",
    "mpc_guide = getModels('../input/{}/MPC/'.format(domain), 100)\n",
    "na_guide = getModels('../input/{}/NodeActivity/'.format(domain), 100)\n",
    "od_guide = getModels('../input/{}/OutDegree/'.format(domain), 100)\n",
    "nt_guide = getModels('../input/{}/NodeType/'.format(domain), 100)\n",
    "composite_guide = getModels('../input/{}/Composite/'.format(domain), 100)\n",
    "composite_no_violations_guide = getModels('../input/{}/Composite_Without_Violations/'.format(domain), 100)\n",
    "violations_guide = getModels('../input/{}/Violations/'.format(domain), 100)\n",
    "human = getModels('../input/{}/Human/'.format(domain), 304)\n",
    "model_types = [human, composite_guide, composite_no_violations_guide, mpc_guide, na_guide, od_guide, nt_guide, violations_guide]"
   ]
  },
  {
   "cell_type": "code",
   "execution_count": 151,
   "metadata": {},
   "outputs": [],
   "source": [
    "if domain == 'yakindu':\n",
    "    type_map = {'Entry': 0.04257802080554814, 'Choice': 0.1267671379034409, 'State': 0.1596092291277674, 'Transition': 0.6138636969858629, 'Statechart': 0.010136036276340358, 'Region': 0.04467858095492131, 'Exit': 0.0018338223526273673, 'FinalState': 0.0005334755934915977}\n",
    "elif domain == 'ecore':\n",
    "    type_map = {'EAttribute': 0.23539778449144008, 'EClass': 0.30996978851963747, 'EReference': 0.33081570996978854, 'EPackage': 0.012789526686807653, 'EAnnotation': 0.002517623363544813, 'EEnumLiteral': 0.07275931520644502, 'EEnum': 0.013645518630412891, 'EDataType': 0.004028197381671702, 'EParameter': 0.005941591137965764, 'EGenericType': 0.002014098690835851, 'EOperation': 0.009415911379657605, 'ETypeParameter': 0.0007049345417925478}\n",
    "elif domain == 'github':\n",
    "    type_map = {'Project': 0.012636538873420432, 'Commit': 0.5525808524309276, 'User': 0.05847076461769116, 'Issue': 0.12743628185907047, 'PullRequest': 0.07560505461554937, 'IssueEvent': 0.17327050760334123}"
   ]
  },
  {
   "cell_type": "code",
   "execution_count": 152,
   "metadata": {},
   "outputs": [],
   "source": [
    "# import rep\n",
    "mpc_rep = getModels('../input/{}/MPC_REP/'.format(domain), 1)\n",
    "na_rep = getModels('../input/{}/NA_REP/'.format(domain), 1)\n",
    "od_rep = getModels('../input/{}/OUT_DEGREE_REP/'.format(domain), 1)\n",
    "rep = mpc_rep[0]\n",
    "rep.na = na_rep[0].na\n",
    "rep.out_d = od_rep[0].out_d\n",
    "rep.nodeTypeStat = type_map"
   ]
  },
  {
   "cell_type": "markdown",
   "metadata": {},
   "source": [
    "### Helper Functions"
   ]
  },
  {
   "cell_type": "code",
   "execution_count": 153,
   "metadata": {},
   "outputs": [],
   "source": [
    "def calculate_ks(dist1, dist2):\n",
    "    value, p= metrics.ks_distance(dist1, dist2)\n",
    "    return value"
   ]
  },
  {
   "cell_type": "code",
   "execution_count": 154,
   "metadata": {},
   "outputs": [],
   "source": [
    "def mkdir(path):\n",
    "    if not os.path.exists(path):\n",
    "        os.makedirs(path)"
   ]
  },
  {
   "cell_type": "markdown",
   "metadata": {},
   "source": [
    "### Plot Config"
   ]
  },
  {
   "cell_type": "code",
   "execution_count": 155,
   "metadata": {},
   "outputs": [],
   "source": [
    "output_path = '../output/{}/'.format(domain)\n",
    "mkdir(output_path)"
   ]
  },
  {
   "cell_type": "markdown",
   "metadata": {},
   "source": [
    "### Draw diagrams"
   ]
  },
  {
   "cell_type": "code",
   "execution_count": 156,
   "metadata": {},
   "outputs": [],
   "source": [
    "def drawBoxDiagram(title, target, types, distance_func, label_position):\n",
    "    distances = []\n",
    "    for distributions in types:\n",
    "        distances.append([distance_func(target, distribution) for distribution in distributions])\n",
    "    fig, ax1 = plt.subplots()\n",
    "    fig.set_size_inches(5, 2)\n",
    "    result = plt.boxplot(distances)\n",
    "    ax1.xaxis.set_ticks_position(label_position)     \n",
    "    texts = ax1.set_xticklabels(labels, rotation=90, fontsize=12)\n",
    "    plt.savefig('{}/{}.jpg'.format(output_path, title), dpi=500, bbox_inches=\"tight\")"
   ]
  },
  {
   "cell_type": "code",
   "execution_count": 157,
   "metadata": {},
   "outputs": [
    {
     "data": {
      "image/png": "[encoded data removed]",
      "text/plain": [
       "<Figure size 360x144 with 1 Axes>"
      ]
     },
     "metadata": {
      "needs_background": "light"
     },
     "output_type": "display_data"
    }
   ],
   "source": [
    "# draw mpc\n",
    "mpc_types = []\n",
    "labels = ['Hum', 'Comb+V', 'Comb-V', 'MPC', 'NA', 'OD',  'NTD', 'VIO']\n",
    "for models in model_types:\n",
    "        mpc_types.append([model.mpc for model in models])\n",
    "drawBoxDiagram('MPC', rep.mpc, mpc_types, calculate_ks, 'top')"
   ]
  },
  {
   "cell_type": "code",
   "execution_count": 158,
   "metadata": {},
   "outputs": [
    {
     "data": {
      "image/png": "[encoded data removed]",
      "text/plain": [
       "<Figure size 360x144 with 1 Axes>"
      ]
     },
     "metadata": {
      "needs_background": "light"
     },
     "output_type": "display_data"
    }
   ],
   "source": [
    "# draw node activity\n",
    "na_types = []\n",
    "labels = []\n",
    "for models in model_types:\n",
    "        na_types.append([model.na for model in models])\n",
    "drawBoxDiagram('Node_Activity', rep.na, na_types, calculate_ks, 'top')"
   ]
  },
  {
   "cell_type": "code",
   "execution_count": 159,
   "metadata": {},
   "outputs": [
    {
     "data": {
      "image/png": "[encoded data removed]",
      "text/plain": [
       "<Figure size 360x144 with 1 Axes>"
      ]
     },
     "metadata": {
      "needs_background": "light"
     },
     "output_type": "display_data"
    }
   ],
   "source": [
    "# draw out degree\n",
    "out_d_types = []\n",
    "labels = []\n",
    "for models in model_types:\n",
    "        out_d_types.append([model.out_d for model in models])\n",
    "drawBoxDiagram('Out_Degree', rep.out_d, out_d_types, calculate_ks, 'top')"
   ]
  },
  {
   "cell_type": "code",
   "execution_count": 160,
   "metadata": {},
   "outputs": [],
   "source": [
    "def manual_manhatten(pdf1, pdf2):\n",
    "    result = 0\n",
    "    sum1 = 0\n",
    "    sum2 = 0\n",
    "    for(a, b) in zip(pdf1, pdf2):\n",
    "        sum1 += a\n",
    "        sum2 += b\n",
    "        result += abs(sum1-sum2)\n",
    "    return result\n"
   ]
  },
  {
   "cell_type": "code",
   "execution_count": 161,
   "metadata": {},
   "outputs": [
    {
     "name": "stdout",
     "output_type": "stream",
     "text": [
      "['Choice', 'Entry', 'Exit', 'FinalState', 'Region', 'State', 'Statechart', 'Transition']\n"
     ]
    },
    {
     "data": {
      "image/png": "[encoded data removed]",
      "text/plain": [
       "<Figure size 360x144 with 1 Axes>"
      ]
     },
     "metadata": {
      "needs_background": "light"
     },
     "output_type": "display_data"
    }
   ],
   "source": [
    "# draw node type\n",
    "labels = []\n",
    "types = sorted(rep.nodeTypeStat.keys())\n",
    "rep_type_dist = [float(rep.nodeTypeStat[key]) for key in types]\n",
    "print(types)\n",
    "node_type_types = []\n",
    "for models in model_types:\n",
    "    type_dists = []\n",
    "    for model in models:\n",
    "        type_dists.append([float(model.nodeTypeStat.get(key, 0)) for key in types])\n",
    "    node_type_types.append(type_dists)\n",
    "\n",
    "#since we already know the pdf, we can compute the ks distance manually\n",
    "drawBoxDiagram('Node_Type', rep_type_dist, node_type_types, manual_manhatten, 'top')"
   ]
  },
  {
   "cell_type": "code",
   "execution_count": 162,
   "metadata": {},
   "outputs": [
    {
     "data": {
      "image/png": "[encoded data removed]",
      "text/plain": [
       "<Figure size 360x144 with 1 Axes>"
      ]
     },
     "metadata": {
      "needs_background": "light"
     },
     "output_type": "display_data"
    }
   ],
   "source": [
    "# draw violations\n",
    "violation_types = []\n",
    "labels = ['Hum', 'Comb+V', 'Comb-V', 'MPC', 'NA', 'OD',  'NTD', 'VIO']\n",
    "for models in model_types:\n",
    "        violation_types.append([model.violations for model in models])\n",
    "drawBoxDiagram('Violations', None, violation_types, lambda a, b:b, 'bottom')"
   ]
  },
  {
   "cell_type": "code",
   "execution_count": null,
   "metadata": {},
   "outputs": [],
   "source": []
  },
  {
   "cell_type": "code",
   "execution_count": null,
   "metadata": {},
   "outputs": [],
   "source": []
  }
 ],
 "metadata": {
  "kernelspec": {
   "display_name": "Python 3",
   "language": "python",
   "name": "python3"
  },
  "language_info": {
   "codemirror_mode": {
    "name": "ipython",
    "version": 3
   },
   "file_extension": ".py",
   "mimetype": "text/x-python",
   "name": "python",
   "nbconvert_exporter": "python",
   "pygments_lexer": "ipython3",
   "version": "3.7.3"
  }
 },
 "nbformat": 4,
 "nbformat_minor": 2
}
