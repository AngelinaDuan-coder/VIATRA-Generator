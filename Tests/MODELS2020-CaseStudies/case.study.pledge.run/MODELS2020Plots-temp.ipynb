{
 "cells": [
  {
   "cell_type": "markdown",
   "metadata": {},
   "source": [
    "# Data analysis for the paper \"Automated Generation of Consistent Models with Structural and Attribute Constraints\""
   ]
  },
  {
   "cell_type": "markdown",
   "metadata": {},
   "source": [
    "First, let's load some packages."
   ]
  },
  {
   "cell_type": "code",
   "execution_count": 1,
   "metadata": {
    "scrolled": true
   },
   "outputs": [
    {
     "name": "stderr",
     "output_type": "stream",
     "text": [
      "Loading required package: tidyverse\n",
      "\n",
      "── \u001b[1mAttaching packages\u001b[22m ─────────────────────────────────────── tidyverse 1.3.0 ──\n",
      "\n",
      "\u001b[32m✔\u001b[39m \u001b[34mggplot2\u001b[39m 3.3.2     \u001b[32m✔\u001b[39m \u001b[34mpurrr  \u001b[39m 0.3.4\n",
      "\u001b[32m✔\u001b[39m \u001b[34mtibble \u001b[39m 3.0.3     \u001b[32m✔\u001b[39m \u001b[34mdplyr  \u001b[39m 1.0.0\n",
      "\u001b[32m✔\u001b[39m \u001b[34mtidyr  \u001b[39m 1.1.0     \u001b[32m✔\u001b[39m \u001b[34mstringr\u001b[39m 1.4.0\n",
      "\u001b[32m✔\u001b[39m \u001b[34mreadr  \u001b[39m 1.3.1     \u001b[32m✔\u001b[39m \u001b[34mforcats\u001b[39m 0.5.0\n",
      "\n",
      "Warning message:\n",
      "“package ‘ggplot2’ was built under R version 4.0.1”\n",
      "Warning message:\n",
      "“package ‘tibble’ was built under R version 4.0.2”\n",
      "── \u001b[1mConflicts\u001b[22m ────────────────────────────────────────── tidyverse_conflicts() ──\n",
      "\u001b[31m✖\u001b[39m \u001b[34mdplyr\u001b[39m::\u001b[32mfilter()\u001b[39m masks \u001b[34mstats\u001b[39m::filter()\n",
      "\u001b[31m✖\u001b[39m \u001b[34mdplyr\u001b[39m::\u001b[32mlag()\u001b[39m    masks \u001b[34mstats\u001b[39m::lag()\n",
      "\n",
      "Warning message in dir.create(\"plots\"):\n",
      "“'plots' already exists”\n"
     ]
    }
   ],
   "source": [
    "require(tidyverse)\n",
    "dir.create('plots')"
   ]
  },
  {
   "cell_type": "code",
   "execution_count": 2,
   "metadata": {
    "scrolled": false
   },
   "outputs": [],
   "source": [
    "ProcessDetailedStatistics <- function(str) {\n",
    "    str <- sub('TransformationExecutionTime', 'TransformationExecutionTime:', str)\n",
    "    str <- sub('Backtrackingtime', 'BacktrackingTime', str)\n",
    "    str <- gsub('\\\\(|\\\\)', '', str)\n",
    "    str <- lapply(strsplit(str, '\\\\||:'), function (v) {\n",
    "        dim(v) <- c(2, 12)\n",
    "        values <- as.double(v[2,])\n",
    "        names(values) <- v[1,]\n",
    "        as.data.frame(t(values))\n",
    "    })\n",
    "    str\n",
    "}\n",
    "Load10Log <- function(filename, size) {\n",
    "    read_csv(filename, col_types = cols(\n",
    "      .default = col_double(),\n",
    "      Result = col_character(),\n",
    "      Solution1DetailedStatistics = col_character(),\n",
    "      Solution2DetailedStatistics = col_character(),\n",
    "      Solution3DetailedStatistics = col_character(),\n",
    "      Solution4DetailedStatistics = col_character(),\n",
    "      Solution5DetailedStatistics = col_character(),\n",
    "      Solution6DetailedStatistics = col_character(),\n",
    "      Solution7DetailedStatistics = col_character(),\n",
    "      Solution8DetailedStatistics = col_character(),\n",
    "      Solution9DetailedStatistics = col_character(),\n",
    "      Solution10DetailedStatistics = col_character()\n",
    "    )) %>% transmute(\n",
    "        n = size,\n",
    "        Run = Run,\n",
    "        preprocessingTime = get('Domain to logic transformation time') + get('Logic to solver transformation time') + ExplorationInitializationTime,\n",
    "        Solution0FoundAt = Solution0FoundAt,\n",
    "        additionalTime = Solution9FoundAt - Solution0FoundAt,\n",
    "        Solution1DetailedStatistics = ProcessDetailedStatistics(Solution1DetailedStatistics)\n",
    "    ) %>% unnest() %>% mutate(\n",
    "        # (Logical) constraint evluation should count as refinement.\n",
    "        ForwardTime = ForwardTime + GlobalConstraintEvaluationTime + FitnessCalculationTime,\n",
    "        preprocessingTime = preprocessingTime,\n",
    "        BacktrackingTime = Solution0FoundAt - (StateCoderTime + ForwardTime + NumericalSolverSumTime)\n",
    "    ) %>% select(n, Run, preprocessingTime, StateCoderTime, ForwardTime, BacktrackingTime, NumericalSolverSumTime, additionalTime)\n",
    "}\n",
    "Load1Log <- function(filename, size) {\n",
    "    read_csv(filename, col_types = cols(\n",
    "      .default = col_double(),\n",
    "      Result = col_character(),\n",
    "      Solution1DetailedStatistics = col_character()\n",
    "    )) %>% filter(Result == \"ModelResultImpl\") %>% transmute(\n",
    "        n = size,\n",
    "        Run = Run,\n",
    "        preprocessingTime = get('Domain to logic transformation time') + get('Logic to solver transformation time') + ExplorationInitializationTime,\n",
    "        Solution0FoundAt = Solution0FoundAt,\n",
    "        Solution1DetailedStatistics = ProcessDetailedStatistics(Solution1DetailedStatistics)\n",
    "    ) %>% unnest(cols = c(Solution1DetailedStatistics)) %>% mutate(\n",
    "        ForwardTime = ForwardTime + GlobalConstraintEvaluationTime + FitnessCalculationTime,\n",
    "        BacktrackingTime = Solution0FoundAt - (StateCoderTime + ForwardTime + NumericalSolverSumTime)\n",
    "    ) %>% select(n, Run, preprocessingTime, StateCoderTime, ForwardTime, BacktrackingTime, NumericalSolverSumTime)\n",
    "}"
   ]
  },
  {
   "cell_type": "code",
   "execution_count": 3,
   "metadata": {},
   "outputs": [],
   "source": [
    "ProcessRQ1 <- function(df) {\n",
    "    df %>% group_by(n) %>% summarize(\n",
    "        .groups = 'drop',\n",
    "        time = median(preprocessingTime + StateCoderTime + ForwardTime + BacktrackingTime + NumericalSolverSumTime) / 1000.0\n",
    "    )\n",
    "}\n",
    "ProcessRQ2 <- function(df) {\n",
    "    df %>% group_by(n) %>% summarize(\n",
    "        .groups = 'drop',\n",
    "        preprocessingTime = median(preprocessingTime) / 1000.0,\n",
    "        StateCoderTime = median(StateCoderTime) / 1000.0,\n",
    "        ForwardTime = median(ForwardTime) / 1000.0,\n",
    "        BacktrackingTime = median(BacktrackingTime) / 1000.0,\n",
    "        NumericalSolverSumTime = median(NumericalSolverSumTime) / 1000.0,\n",
    "        additionalTime = median(additionalTime) / 1000.0\n",
    "    )\n",
    "}\n",
    "ProcessRQ3 <- ProcessRQ1"
   ]
  },
  {
   "cell_type": "code",
   "execution_count": 4,
   "metadata": {},
   "outputs": [],
   "source": [
    "RQ2Plot <- function(df, name) {\n",
    "    df <- df %>% gather(name, value, -n) %>% filter(name != \"preprocessingTime\")\n",
    "    df$name <- factor(df$name, levels=rev(c('ForwardTime', 'BacktrackingTime', 'StateCoderTime', 'NumericalSolverSumTime', 'additionalTime')))\n",
    "    plot <- df %>% ggplot(aes(x=n, y=value, fill=name)) +\n",
    "        geom_bar(stat='identity') +\n",
    "        scale_fill_brewer(palette='Set2',\n",
    "                          labels=rev(c('Refinement', 'Backtracking', 'State Coding', 'SMT Solver Calls', 'Additional Model Generation')),\n",
    "                          guide=FALSE) +\n",
    "        scale_x_continuous(breaks=c(20, 40, 60, 80, 100), name=\"Model Size (# nodes)\") +\n",
    "        scale_y_continuous(name=\"Runtime (s)\") +\n",
    "        theme_bw()\n",
    "    ggsave(plot=plot, filename=paste0('plots/plot_RQ2_', name, '.pdf'), width=3.5, height=2.5)\n",
    "    plot\n",
    "}"
   ]
  },
  {
   "cell_type": "markdown",
   "metadata": {},
   "source": [
    "### Fam domain"
   ]
  },
  {
   "cell_type": "code",
   "execution_count": 5,
   "metadata": {},
   "outputs": [
    {
     "name": "stderr",
     "output_type": "stream",
     "text": [
      "Warning message:\n",
      "“`cols` is now required when using unnest().\n",
      "Please use `cols = c(Solution1DetailedStatistics)`”\n"
     ]
    },
    {
     "data": {
      "text/html": [
       "<table>\n",
       "<caption>A tibble: 1 × 8</caption>\n",
       "<thead>\n",
       "\t<tr><th scope=col>n</th><th scope=col>Run</th><th scope=col>preprocessingTime</th><th scope=col>StateCoderTime</th><th scope=col>ForwardTime</th><th scope=col>BacktrackingTime</th><th scope=col>NumericalSolverSumTime</th><th scope=col>additionalTime</th></tr>\n",
       "\t<tr><th scope=col>&lt;dbl&gt;</th><th scope=col>&lt;dbl&gt;</th><th scope=col>&lt;dbl&gt;</th><th scope=col>&lt;dbl&gt;</th><th scope=col>&lt;dbl&gt;</th><th scope=col>&lt;dbl&gt;</th><th scope=col>&lt;dbl&gt;</th><th scope=col>&lt;dbl&gt;</th></tr>\n",
       "</thead>\n",
       "<tbody>\n",
       "\t<tr><td>20</td><td>1</td><td>14735</td><td>994</td><td>1890</td><td>1272</td><td>4391</td><td>14750</td></tr>\n",
       "</tbody>\n",
       "</table>\n"
      ],
      "text/latex": [
       "A tibble: 1 × 8\n",
       "\\begin{tabular}{llllllll}\n",
       " n & Run & preprocessingTime & StateCoderTime & ForwardTime & BacktrackingTime & NumericalSolverSumTime & additionalTime\\\\\n",
       " <dbl> & <dbl> & <dbl> & <dbl> & <dbl> & <dbl> & <dbl> & <dbl>\\\\\n",
       "\\hline\n",
       "\t 20 & 1 & 14735 & 994 & 1890 & 1272 & 4391 & 14750\\\\\n",
       "\\end{tabular}\n"
      ],
      "text/markdown": [
       "\n",
       "A tibble: 1 × 8\n",
       "\n",
       "| n &lt;dbl&gt; | Run &lt;dbl&gt; | preprocessingTime &lt;dbl&gt; | StateCoderTime &lt;dbl&gt; | ForwardTime &lt;dbl&gt; | BacktrackingTime &lt;dbl&gt; | NumericalSolverSumTime &lt;dbl&gt; | additionalTime &lt;dbl&gt; |\n",
       "|---|---|---|---|---|---|---|---|\n",
       "| 20 | 1 | 14735 | 994 | 1890 | 1272 | 4391 | 14750 |\n",
       "\n"
      ],
      "text/plain": [
       "  n  Run preprocessingTime StateCoderTime ForwardTime BacktrackingTime\n",
       "1 20 1   14735             994            1890        1272            \n",
       "  NumericalSolverSumTime additionalTime\n",
       "1 4391                   14750         "
      ]
     },
     "metadata": {},
     "output_type": "display_data"
    },
    {
     "data": {
      "text/html": [
       "<table>\n",
       "<caption>A tibble: 1 × 7</caption>\n",
       "<thead>\n",
       "\t<tr><th scope=col>n</th><th scope=col>preprocessingTime</th><th scope=col>StateCoderTime</th><th scope=col>ForwardTime</th><th scope=col>BacktrackingTime</th><th scope=col>NumericalSolverSumTime</th><th scope=col>additionalTime</th></tr>\n",
       "\t<tr><th scope=col>&lt;dbl&gt;</th><th scope=col>&lt;dbl&gt;</th><th scope=col>&lt;dbl&gt;</th><th scope=col>&lt;dbl&gt;</th><th scope=col>&lt;dbl&gt;</th><th scope=col>&lt;dbl&gt;</th><th scope=col>&lt;dbl&gt;</th></tr>\n",
       "</thead>\n",
       "<tbody>\n",
       "\t<tr><td>20</td><td>14.735</td><td>0.994</td><td>1.89</td><td>1.272</td><td>4.391</td><td>14.75</td></tr>\n",
       "</tbody>\n",
       "</table>\n"
      ],
      "text/latex": [
       "A tibble: 1 × 7\n",
       "\\begin{tabular}{lllllll}\n",
       " n & preprocessingTime & StateCoderTime & ForwardTime & BacktrackingTime & NumericalSolverSumTime & additionalTime\\\\\n",
       " <dbl> & <dbl> & <dbl> & <dbl> & <dbl> & <dbl> & <dbl>\\\\\n",
       "\\hline\n",
       "\t 20 & 14.735 & 0.994 & 1.89 & 1.272 & 4.391 & 14.75\\\\\n",
       "\\end{tabular}\n"
      ],
      "text/markdown": [
       "\n",
       "A tibble: 1 × 7\n",
       "\n",
       "| n &lt;dbl&gt; | preprocessingTime &lt;dbl&gt; | StateCoderTime &lt;dbl&gt; | ForwardTime &lt;dbl&gt; | BacktrackingTime &lt;dbl&gt; | NumericalSolverSumTime &lt;dbl&gt; | additionalTime &lt;dbl&gt; |\n",
       "|---|---|---|---|---|---|---|\n",
       "| 20 | 14.735 | 0.994 | 1.89 | 1.272 | 4.391 | 14.75 |\n",
       "\n"
      ],
      "text/plain": [
       "  n  preprocessingTime StateCoderTime ForwardTime BacktrackingTime\n",
       "1 20 14.735            0.994          1.89        1.272           \n",
       "  NumericalSolverSumTime additionalTime\n",
       "1 4.391                  14.75         "
      ]
     },
     "metadata": {},
     "output_type": "display_data"
    },
    {
     "data": {
      "text/html": [
       "14.735"
      ],
      "text/latex": [
       "14.735"
      ],
      "text/markdown": [
       "14.735"
      ],
      "text/plain": [
       "[1] 14.735"
      ]
     },
     "metadata": {},
     "output_type": "display_data"
    },
    {
     "data": {
      "image/png": "[encoded data removed]",
      "text/plain": [
       "plot without title"
      ]
     },
     "metadata": {
      "image/png": {
       "height": 420,
       "width": 420
      },
      "text/plain": {
       "height": 420,
       "width": 420
      }
     },
     "output_type": "display_data"
    }
   ],
   "source": [
    "FamilyTreeRQ2Raw <- rbind(\n",
    "#     Load10Log(\"measurements/stats/FamilyTree//size010to-1r10n10rt300nsdrealstats_06-0249.csv\", 10),\n",
    "    Load10Log(\"measurements1/stats.csv\", 20)\n",
    ")\n",
    "FamilyTreeRQ2Raw\n",
    "FamilyTreeRQ2 <- FamilyTreeRQ2Raw %>% ProcessRQ2\n",
    "FamilyTreeRQ2\n",
    "median(FamilyTreeRQ2Raw$preprocessingTime) / 1000.0\n",
    "FamilyTreeRQ2 %>% RQ2Plot('FamilyTree')"
   ]
  },
  {
   "cell_type": "code",
   "execution_count": null,
   "metadata": {},
   "outputs": [],
   "source": []
  }
 ],
 "metadata": {
  "kernelspec": {
   "display_name": "R",
   "language": "R",
   "name": "ir"
  },
  "language_info": {
   "codemirror_mode": "r",
   "file_extension": ".r",
   "mimetype": "text/x-r-source",
   "name": "R",
   "pygments_lexer": "r",
   "version": "4.0.0"
  }
 },
 "nbformat": 4,
 "nbformat_minor": 2
}
